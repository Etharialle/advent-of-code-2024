{
 "cells": [
  {
   "cell_type": "markdown",
   "metadata": {},
   "source": [
    "## Puzzle 1\n",
    "There are several `reports` (i.e. row) each report has a list of numbers called `levels` separated by spaces\n",
    "\n",
    "Need to determine which reports are safe.  Safe is defined as:\n",
    "- levels are all decreasing or increasing (i.e. sorted)\n",
    "- adjacent levels differ by at least 1 and at most 3"
   ]
  },
  {
   "cell_type": "markdown",
   "metadata": {},
   "source": [
    "## Plan\n",
    "Use csv and open to get data in\n"
   ]
  },
  {
   "cell_type": "code",
   "execution_count": 191,
   "metadata": {},
   "outputs": [],
   "source": [
    "import csv"
   ]
  },
  {
   "cell_type": "code",
   "execution_count": null,
   "metadata": {},
   "outputs": [
    {
     "name": "stdout",
     "output_type": "stream",
     "text": [
      "71 73 75 76 79 81 84 86\n",
      "[71, 73, 75, 76, 79, 81, 84, 86]\n",
      "ascending\n",
      "0\n",
      "rowLength 6\n",
      "1\n",
      "rowLength 6\n",
      "2\n",
      "rowLength 6\n",
      "3\n",
      "rowLength 6\n",
      "4\n",
      "rowLength 6\n",
      "5\n",
      "rowLength 6\n",
      "6\n",
      "rowLength 6\n"
     ]
    }
   ],
   "source": [
    "safeReports = 0\n",
    "reportReason = []\n",
    "with open('puzzle_input.csv', 'r') as file:\n",
    "    csv_reader = csv.reader(file)\n",
    "    for x, row in enumerate(csv_reader):\n",
    "        if x < 1000:\n",
    "            print(row[0])\n",
    "            rowList = row[0].split(' ')\n",
    "            rowList = [int(y) for y in rowList]\n",
    "            print(rowList)\n",
    "            ascSort = sorted(rowList)\n",
    "            descSort = sorted(rowList, reverse=True)\n",
    "            #if (rowList != ascSort) and (rowList != descSort):\n",
    "            #    print(\"not safe unsorted\")\n",
    "            #    reportReason.append(\"Unsorted\")\n",
    "            #    continue\n",
    "            if (rowList == ascSort):\n",
    "                print(\"ascending\")\n",
    "            elif (rowList == descSort):\n",
    "                print(\"descending\")\n",
    "            else:\n",
    "                print(\"not sorted\")\n",
    "                reportReason.append(\"Unsorted - \" + str(x+1))\n",
    "                continue\n",
    "            for i in range(len(rowList)-1):\n",
    "                print(i)\n",
    "                print(\"rowLength \" + str(len(rowList)-2))\n",
    "                if ((rowList[i+1] > rowList[i] + 3) or (rowList[i+1] < rowList[i] - 3)) or (rowList[i+1] == rowList[i]):\n",
    "                    print(\"not safe difference in levels\")\n",
    "                    reportReason.append(rowList[i+1]-rowList[i])\n",
    "                    break\n",
    "                if i == (len(rowList) - 2):\n",
    "                    safeReports += 1"
   ]
  },
  {
   "cell_type": "code",
   "execution_count": 193,
   "metadata": {},
   "outputs": [
    {
     "name": "stdout",
     "output_type": "stream",
     "text": [
      "1\n",
      "[]\n"
     ]
    }
   ],
   "source": [
    "print(safeReports)\n",
    "print(reportReason)"
   ]
  }
 ],
 "metadata": {
  "kernelspec": {
   "display_name": "serenity",
   "language": "python",
   "name": "python3"
  },
  "language_info": {
   "codemirror_mode": {
    "name": "ipython",
    "version": 3
   },
   "file_extension": ".py",
   "mimetype": "text/x-python",
   "name": "python",
   "nbconvert_exporter": "python",
   "pygments_lexer": "ipython3",
   "version": "3.10.6"
  }
 },
 "nbformat": 4,
 "nbformat_minor": 2
}
